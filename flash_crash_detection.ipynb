{
 "cells": [
  {
   "cell_type": "markdown",
   "metadata": {},
   "source": [
    "# For a single file"
   ]
  },
  {
   "cell_type": "markdown",
   "metadata": {},
   "source": [
    "**Loading file and librairies**"
   ]
  },
  {
   "cell_type": "code",
   "execution_count": 1,
   "metadata": {},
   "outputs": [],
   "source": [
    "import pandas as pd\n",
    "import numpy as np\n",
    "import polars as pl\n",
    "import tarfile\n",
    "import pandas as pd\n",
    "import matplotlib.pyplot as plt"
   ]
  },
  {
   "cell_type": "code",
   "execution_count": 34,
   "metadata": {},
   "outputs": [
    {
     "name": "stdout",
     "output_type": "stream",
     "text": [
      "['index', 'xltime', 'bid-price', 'bid-volume', 'ask-price', 'ask-volume', 'trade-price', 'trade-volume', 'date']\n",
      "<bound method DataFrame.head of shape: (27_695_291, 9)\n",
      "┌───────────┬───────────┬───────────┬───────────┬───┬───────────┬───────────┬───────────┬──────────┐\n",
      "│ index     ┆ xltime    ┆ bid-price ┆ bid-volum ┆ … ┆ ask-volum ┆ trade-pri ┆ trade-vol ┆ date     │\n",
      "│ ---       ┆ ---       ┆ ---       ┆ e         ┆   ┆ e         ┆ ce        ┆ ume       ┆ ---      │\n",
      "│ str       ┆ f64       ┆ f64       ┆ ---       ┆   ┆ ---       ┆ ---       ┆ ---       ┆ str      │\n",
      "│           ┆           ┆           ┆ i64       ┆   ┆ i64       ┆ f64       ┆ i64       ┆          │\n",
      "╞═══════════╪═══════════╪═══════════╪═══════════╪═══╪═══════════╪═══════════╪═══════════╪══════════╡\n",
      "│ 2010-01-0 ┆ 40182.604 ┆ 213.32    ┆ 1         ┆ … ┆ 1         ┆ null      ┆ null      ┆ 2010-01- │\n",
      "│ 4T09:30:0 ┆ 167       ┆           ┆           ┆   ┆           ┆           ┆           ┆ 04       │\n",
      "│ 0.001000  ┆           ┆           ┆           ┆   ┆           ┆           ┆           ┆          │\n",
      "│ 2010-01-0 ┆ 40182.604 ┆ 213.37    ┆ 1         ┆ … ┆ 3         ┆ null      ┆ null      ┆ 2010-01- │\n",
      "│ 4T09:30:0 ┆ 167       ┆           ┆           ┆   ┆           ┆           ┆           ┆ 04       │\n",
      "│ 0.009000  ┆           ┆           ┆           ┆   ┆           ┆           ┆           ┆          │\n",
      "│ 2010-01-0 ┆ 40182.604 ┆ 213.38    ┆ 2         ┆ … ┆ 1         ┆ null      ┆ null      ┆ 2010-01- │\n",
      "│ 4T09:30:0 ┆ 167       ┆           ┆           ┆   ┆           ┆           ┆           ┆ 04       │\n",
      "│ 0.020000  ┆           ┆           ┆           ┆   ┆           ┆           ┆           ┆          │\n",
      "│ 2010-01-0 ┆ 40182.604 ┆ 213.39    ┆ 1         ┆ … ┆ 1         ┆ null      ┆ null      ┆ 2010-01- │\n",
      "│ 4T09:30:0 ┆ 167       ┆           ┆           ┆   ┆           ┆           ┆           ┆ 04       │\n",
      "│ 0.042000  ┆           ┆           ┆           ┆   ┆           ┆           ┆           ┆          │\n",
      "│ 2010-01-0 ┆ 40182.604 ┆ 213.4     ┆ 1         ┆ … ┆ 1         ┆ null      ┆ null      ┆ 2010-01- │\n",
      "│ 4T09:30:0 ┆ 168       ┆           ┆           ┆   ┆           ┆           ┆           ┆ 04       │\n",
      "│ 0.087999  ┆           ┆           ┆           ┆   ┆           ┆           ┆           ┆          │\n",
      "│ …         ┆ …         ┆ …         ┆ …         ┆ … ┆ …         ┆ …         ┆ …         ┆ …        │\n",
      "│ 2010-12-3 ┆ null      ┆ 322.44    ┆ 1         ┆ … ┆ 41        ┆ 322.49    ┆ 500       ┆ 2010-12- │\n",
      "│ 1T16:00:0 ┆           ┆           ┆           ┆   ┆           ┆           ┆           ┆ 31       │\n",
      "│ 0.029000  ┆           ┆           ┆           ┆   ┆           ┆           ┆           ┆          │\n",
      "│ 2010-12-3 ┆ null      ┆ 322.44    ┆ 1         ┆ … ┆ 41        ┆ 322.48    ┆ 2465      ┆ 2010-12- │\n",
      "│ 1T16:00:0 ┆           ┆           ┆           ┆   ┆           ┆           ┆           ┆ 31       │\n",
      "│ 0.030000  ┆           ┆           ┆           ┆   ┆           ┆           ┆           ┆          │\n",
      "│ 2010-12-3 ┆ 40543.875 ┆ 322.43    ┆ 12        ┆ … ┆ 41        ┆ 322.48    ┆ 2465      ┆ 2010-12- │\n",
      "│ 1T16:00:0 ┆ 001       ┆           ┆           ┆   ┆           ┆           ┆           ┆ 31       │\n",
      "│ 0.045000  ┆           ┆           ┆           ┆   ┆           ┆           ┆           ┆          │\n",
      "│ 2010-12-3 ┆ null      ┆ 322.43    ┆ 12        ┆ … ┆ 41        ┆ 322.44    ┆ 100       ┆ 2010-12- │\n",
      "│ 1T16:00:0 ┆           ┆           ┆           ┆   ┆           ┆           ┆           ┆ 31       │\n",
      "│ 0.052000  ┆           ┆           ┆           ┆   ┆           ┆           ┆           ┆          │\n",
      "│ 2010-12-3 ┆ 40543.875 ┆ 322.43    ┆ 12        ┆ … ┆ 1         ┆ 322.44    ┆ 100       ┆ 2010-12- │\n",
      "│ 1T16:00:0 ┆ 001       ┆           ┆           ┆   ┆           ┆           ┆           ┆ 31       │\n",
      "│ 0.081000  ┆           ┆           ┆           ┆   ┆           ┆           ┆           ┆          │\n",
      "└───────────┴───────────┴───────────┴───────────┴───┴───────────┴───────────┴───────────┴──────────┘>\n"
     ]
    }
   ],
   "source": [
    "# Read the Parquet file\n",
    "AAPL = pl.read_parquet(\"data/AAPL.OQ_combined.parquet\")\n",
    "\n",
    "print(AAPL.columns)\n",
    "print(AAPL.head)"
   ]
  },
  {
   "cell_type": "code",
   "execution_count": 3,
   "metadata": {},
   "outputs": [],
   "source": [
    "def to_timeseries(df: pl.DataFrame) -> pl.DataFrame:\n",
    "    \"\"\"\n",
    "    Converts the existing `index` column (already a Polars datetime) into\n",
    "    a standard \"DATETIME\" column, optionally rounding to the nearest second.\n",
    "    \"\"\"\n",
    "    return (\n",
    "        df\n",
    "        .rename({\"index\": \"DATETIME\"})\n",
    "        .with_columns(pl.col(\"DATETIME\").dt.round(\"1s\").alias(\"DATETIME\"))\n",
    "    )"
   ]
  },
  {
   "cell_type": "markdown",
   "metadata": {},
   "source": [
    "## Computing the response function per day"
   ]
  },
  {
   "cell_type": "code",
   "execution_count": 4,
   "metadata": {},
   "outputs": [],
   "source": [
    "def compute_response_function(df: pl.DataFrame, tau_max: int) -> np.ndarray:\n",
    "    \"\"\"\n",
    "    Computes the response function R(tau) for all lags up to tau_max.\n",
    "\n",
    "    Args:\n",
    "        df (pl.DataFrame): DataFrame containing 'bid-price', 'ask-price', and 'trade-price'.\n",
    "        tau_max (int): Maximum lag for which to compute the response function.\n",
    "\n",
    "    Returns:\n",
    "        np.ndarray: Array of response values for each tau from 1 to tau_max.\n",
    "    \"\"\"\n",
    "    # Compute mid-price\n",
    "    df = df.with_columns(\n",
    "        ((pl.col(\"bid-price\") + pl.col(\"ask-price\")) / 2).alias(\"mid-price\")\n",
    "    )\n",
    "\n",
    "    # Compute the sign s = sign(trade-price - mid-price), fill trade-price nulls with 0\n",
    "    df = df.with_columns(\n",
    "        (pl.col(\"trade-price\").fill_null(0) - pl.col(\"mid-price\")).sign().alias(\"s\")\n",
    "    )\n",
    "\n",
    "    # Extract the mid-price and signal as NumPy arrays\n",
    "    m = df[\"mid-price\"].to_numpy()\n",
    "    s = df[\"s\"].to_numpy()\n",
    "\n",
    "    # Ensure tau_max does not exceed data length\n",
    "    tau_max = min(tau_max, len(m) - 1)\n",
    "\n",
    "    # Compute response for each tau\n",
    "    response = []\n",
    "    for tau in range(1, tau_max + 1):\n",
    "        # We only compute if we have enough data to shift\n",
    "        if len(m[tau:]) > 0 and len(m[:-tau]) > 0:\n",
    "            shifted_diff = m[tau:] - m[:-tau]  # m_{n+tau} - m_n\n",
    "            response.append(np.mean(s[:-tau] * shifted_diff))\n",
    "        else:\n",
    "            response.append(np.nan)\n",
    "\n",
    "    return np.array(response)"
   ]
  },
  {
   "cell_type": "markdown",
   "metadata": {},
   "source": [
    "**Example : Plotting the response function for the 5/6/7 may of 2010**"
   ]
  },
  {
   "cell_type": "code",
   "execution_count": 5,
   "metadata": {},
   "outputs": [
    {
     "data": {
      "image/png": "[encoded data removed]",
      "text/plain": [
       "<Figure size 1000x600 with 1 Axes>"
      ]
     },
     "metadata": {},
     "output_type": "display_data"
    }
   ],
   "source": [
    "def filter_by_date(df: pl.DataFrame, target_date: str) -> pl.DataFrame:\n",
    "    \"\"\"\n",
    "    Filters the Polars DataFrame by the given date string\n",
    "    and returns a new DataFrame.\n",
    "    \"\"\"\n",
    "    return df.filter(pl.col(\"date\") == target_date)\n",
    "\n",
    "\n",
    "# Filter data for specific dates\n",
    "df_20100505 = filter_by_date(AAPL, \"2010-05-05\")\n",
    "df_20100506 = filter_by_date(AAPL, \"2010-05-06\")\n",
    "df_20100507 = filter_by_date(AAPL, \"2010-05-07\")\n",
    "\n",
    "# Compute response functions\n",
    "tau_max = 10000\n",
    "response_20100505 = compute_response_function(df_20100505, tau_max)\n",
    "response_20100506 = compute_response_function(df_20100506, tau_max)\n",
    "response_20100507 = compute_response_function(df_20100507, tau_max)\n",
    "\n",
    "# Plot comparison (matplotlib)\n",
    "plt.figure(figsize=(10, 6))\n",
    "plt.plot(range(1, tau_max + 1), response_20100505, label='2010-05-05')\n",
    "plt.plot(range(1, tau_max + 1), response_20100506, label='2010-05-06', linestyle='--')\n",
    "plt.plot(range(1, tau_max + 1), response_20100507, label='2010-05-07', linestyle=':')\n",
    "plt.xlabel('Lag (tau)')\n",
    "plt.ylabel('Response Function R(tau)')\n",
    "plt.title('Response Function Comparison')\n",
    "plt.legend()\n",
    "plt.grid()\n",
    "plt.show()"
   ]
  },
  {
   "cell_type": "markdown",
   "metadata": {},
   "source": [
    "We observe much higher magnitude in response for 2010-05-06, this is because it is the day of the Flash Crash, were the US stock market experienced extreme volatility. The response keeps decreasing with increasing tau, likely due to dominance of sell trades and strong negative autocorrelations."
   ]
  },
  {
   "cell_type": "markdown",
   "metadata": {},
   "source": [
    "**Flash crash detection**"
   ]
  },
  {
   "cell_type": "code",
   "execution_count": 68,
   "metadata": {},
   "outputs": [],
   "source": [
    "def detect_flash_crashes(\n",
    "    df: pl.DataFrame, \n",
    "    tau_max: int, \n",
    "    threshold: float\n",
    ") -> pl.DataFrame:\n",
    "    \"\"\"\n",
    "    Detects days that have potential flash crashes by computing \n",
    "    the response function for each unique date and comparing \n",
    "    its maximum value to a threshold.\n",
    "\n",
    "    Parameters:\n",
    "    -----------\n",
    "    df : pl.DataFrame\n",
    "        The DataFrame containing the columns:\n",
    "        ['date', 'bid-price', 'ask-price', 'trade-price', ...].\n",
    "    tau_max : int\n",
    "        Maximum lag for the response function.\n",
    "    threshold : float\n",
    "        Threshold above which we flag the day as a potential \n",
    "        flash crash.\n",
    "    \n",
    "    Returns:\n",
    "    --------\n",
    "    pl.DataFrame\n",
    "        A DataFrame with columns ['date', 'max_response'] \n",
    "        for flagged days.\n",
    "    \"\"\"\n",
    "    # Get unique dates in the dataset\n",
    "    unique_dates = df.select(pl.col(\"date\")).unique().to_series().to_list()\n",
    "\n",
    "    # List to store (date, max_response) for flagged days\n",
    "    flash_crash_days = []\n",
    "\n",
    "    for d in unique_dates:\n",
    "        # Filter DataFrame by this date\n",
    "        daily_df = df.filter(pl.col(\"date\") == d)\n",
    "\n",
    "        # Compute response function\n",
    "        response = compute_response_function(daily_df, tau_max)\n",
    "\n",
    "        # If you prefer absolute values, use np.nanmax(np.abs(response)) \n",
    "        # instead of np.nanmax(response)\n",
    "        max_resp = np.nanmax(response)\n",
    "\n",
    "        # Check against threshold\n",
    "        if max_resp > threshold:\n",
    "            flash_crash_days.append((d, max_resp))\n",
    "\n",
    "    # Convert flagged days into a Polars DataFrame\n",
    "    flash_crash_df = pl.DataFrame(\n",
    "        {\n",
    "            \"date\": [x[0] for x in flash_crash_days],\n",
    "            \"max_response\": [x[1] for x in flash_crash_days]\n",
    "        }\n",
    "    )\n",
    "    return flash_crash_df"
   ]
  },
  {
   "cell_type": "code",
   "execution_count": null,
   "metadata": {},
   "outputs": [],
   "source": [
    "tau_max = 10_000\n",
    "threshold = 0.5 \n",
    "\n",
    "# 3. Detect flash crashes\n",
    "flash_crashes = detect_flash_crashes(AAPL, tau_max, threshold)\n",
    "\n",
    "# 4. Print or save the resulting table of flagged days\n",
    "print(flash_crashes)"
   ]
  },
  {
   "cell_type": "markdown",
   "metadata": {},
   "source": [
    "**Example of use** "
   ]
  },
  {
   "cell_type": "code",
   "execution_count": 100,
   "metadata": {},
   "outputs": [],
   "source": [
    "SPY_polars = pl.read_parquet('data/SPY.P_events_short.parquet')\n"
   ]
  },
  {
   "cell_type": "code",
   "execution_count": 101,
   "metadata": {},
   "outputs": [],
   "source": [
    "def to_timeseries(df: pl.DataFrame) -> pl.DataFrame:\n",
    "    \"\"\"\n",
    "    Converts the existing `index` column (already a Polars datetime) into\n",
    "    a standard \"DATETIME\" column, optionally rounding to the nearest second.\n",
    "    \"\"\"\n",
    "    return (\n",
    "        df\n",
    "        .rename({\"index\": \"DATETIME\"})\n",
    "        .with_columns(pl.col(\"DATETIME\").dt.round(\"1s\").alias(\"DATETIME\"))\n",
    "    )"
   ]
  },
  {
   "cell_type": "code",
   "execution_count": 102,
   "metadata": {},
   "outputs": [
    {
     "data": {
      "image/png": "[encoded data removed]",
      "text/plain": [
       "<Figure size 1000x600 with 1 Axes>"
      ]
     },
     "metadata": {},
     "output_type": "display_data"
    }
   ],
   "source": [
    "SPY_polars = to_timeseries(SPY_polars)\n",
    "\n",
    "def filter_by_date(df: pl.DataFrame, target_date: str) -> pl.DataFrame:\n",
    "    \"\"\"\n",
    "    Filters the Polars DataFrame by the given date string (e.g., \"2010-05-05\")\n",
    "    and returns a new DataFrame.\n",
    "    \"\"\"\n",
    "    return df.filter(\n",
    "        pl.col(\"date\") == pl.lit(target_date).cast(pl.Date)\n",
    "    )\n",
    "\n",
    "\n",
    "# Filter data for specific dates\n",
    "df_20100505 = filter_by_date(SPY_polars, \"2010-05-05\")\n",
    "df_20100506 = filter_by_date(SPY_polars, \"2010-05-06\")\n",
    "df_20100507 = filter_by_date(SPY_polars, \"2010-05-07\")\n",
    "\n",
    "# Compute response functions\n",
    "tau_max = 10000\n",
    "response_20100505 = compute_response_function(df_20100505, tau_max)\n",
    "response_20100506 = compute_response_function(df_20100506, tau_max)\n",
    "response_20100507 = compute_response_function(df_20100507, tau_max)\n",
    "\n",
    "# Plot comparison (matplotlib)\n",
    "plt.figure(figsize=(10, 6))\n",
    "plt.plot(range(1, tau_max + 1), response_20100505, label='2010-05-05')\n",
    "plt.plot(range(1, tau_max + 1), response_20100506, label='2010-05-06', linestyle='--')\n",
    "plt.plot(range(1, tau_max + 1), response_20100507, label='2010-05-07', linestyle=':')\n",
    "plt.xlabel('Lag (tau)')\n",
    "plt.ylabel('Response Function R(tau)')\n",
    "plt.title('Response Function Comparison')\n",
    "plt.legend()\n",
    "plt.grid()\n",
    "plt.show()"
   ]
  },
  {
   "cell_type": "markdown",
   "metadata": {},
   "source": [
    "## Computing response function per hour "
   ]
  },
  {
   "cell_type": "code",
   "execution_count": 107,
   "metadata": {},
   "outputs": [],
   "source": [
    "import datetime\n",
    "import polars as pl\n",
    "import numpy as np\n",
    "\n",
    "def compute_hourly_response(\n",
    "    df: pl.DataFrame,\n",
    "    date_str: str,        # e.g. \"2010-05-05\"\n",
    "    tau_max: int\n",
    ") -> pl.DataFrame:\n",
    "    \"\"\"\n",
    "    Groups the DataFrame by hour for a specific date and computes\n",
    "    the response function for each hour using `compute_response_function`.\n",
    "\n",
    "    Returns a Polars DataFrame with columns:\n",
    "       - \"hour\" (integer 0..23)\n",
    "       - \"response\" (the np.ndarray response returned by compute_response_function)\n",
    "    \"\"\"\n",
    "    # 1) Filter the DataFrame by the given date.\n",
    "    #    If your 'date' column is of type pl.Date, we must cast the string to a Date\n",
    "    #    or convert the string into a Python datetime.date object for comparison.\n",
    "\n",
    "    # Option A: cast the literal to pl.Date and compare\n",
    "    df_date = df.filter(pl.col(\"date\") == pl.lit(date_str).cast(pl.Date))\n",
    "\n",
    "    # If that fails (or if 'date' is actually a string column), you can do:\n",
    "    # df_date = df.filter(pl.col(\"date\") == date_str)\n",
    "\n",
    "    if df_date.is_empty():\n",
    "        raise ValueError(f\"No trades found for the date {date_str}.\")\n",
    "\n",
    "    # 2) Extract hour from your datetime column (\"DATETIME\" or \"index\").\n",
    "    #    Adjust the column name to match your actual column name.\n",
    "    df_date = df_date.with_columns([\n",
    "        pl.col(\"DATETIME\").dt.hour().alias(\"hour\")\n",
    "    ])\n",
    "\n",
    "    # 3) Group by hour, then apply your per-group transformation\n",
    "    #    We'll produce rows: hour => [response_array]\n",
    "    hourly_response = (\n",
    "        df_date\n",
    "        .groupby(\"hour\")\n",
    "        .apply(lambda group_df: pl.DataFrame({\n",
    "            \"hour\": [group_df[\"hour\"][0]],\n",
    "            \"response\": [compute_response_function(group_df, tau_max)]\n",
    "        }))\n",
    "    )\n",
    "\n",
    "    return hourly_response\n"
   ]
  },
  {
   "cell_type": "code",
   "execution_count": 108,
   "metadata": {},
   "outputs": [
    {
     "ename": "AttributeError",
     "evalue": "'DataFrame' object has no attribute 'groupby'",
     "output_type": "error",
     "traceback": [
      "\u001b[1;31m---------------------------------------------------------------------------\u001b[0m",
      "\u001b[1;31mAttributeError\u001b[0m                            Traceback (most recent call last)",
      "Cell \u001b[1;32mIn[108], line 2\u001b[0m\n\u001b[0;32m      1\u001b[0m tau_max \u001b[38;5;241m=\u001b[39m \u001b[38;5;241m1400\u001b[39m\n\u001b[1;32m----> 2\u001b[0m hourly_response_20100505 \u001b[38;5;241m=\u001b[39m \u001b[43mcompute_hourly_response\u001b[49m\u001b[43m(\u001b[49m\u001b[43mdf_20100505\u001b[49m\u001b[43m,\u001b[49m\u001b[43m \u001b[49m\u001b[38;5;124;43m'\u001b[39;49m\u001b[38;5;124;43m2010-05-05\u001b[39;49m\u001b[38;5;124;43m'\u001b[39;49m\u001b[43m,\u001b[49m\u001b[43m \u001b[49m\u001b[43mtau_max\u001b[49m\u001b[43m)\u001b[49m\n\u001b[0;32m      3\u001b[0m hourly_response_20100506 \u001b[38;5;241m=\u001b[39m compute_hourly_response(df_20100506, \u001b[38;5;124m'\u001b[39m\u001b[38;5;124m2010-05-06\u001b[39m\u001b[38;5;124m'\u001b[39m, tau_max)\n",
      "Cell \u001b[1;32mIn[107], line 40\u001b[0m, in \u001b[0;36mcompute_hourly_response\u001b[1;34m(df, date_str, tau_max)\u001b[0m\n\u001b[0;32m     33\u001b[0m df_date \u001b[38;5;241m=\u001b[39m df_date\u001b[38;5;241m.\u001b[39mwith_columns([\n\u001b[0;32m     34\u001b[0m     pl\u001b[38;5;241m.\u001b[39mcol(\u001b[38;5;124m\"\u001b[39m\u001b[38;5;124mDATETIME\u001b[39m\u001b[38;5;124m\"\u001b[39m)\u001b[38;5;241m.\u001b[39mdt\u001b[38;5;241m.\u001b[39mhour()\u001b[38;5;241m.\u001b[39malias(\u001b[38;5;124m\"\u001b[39m\u001b[38;5;124mhour\u001b[39m\u001b[38;5;124m\"\u001b[39m)\n\u001b[0;32m     35\u001b[0m ])\n\u001b[0;32m     37\u001b[0m \u001b[38;5;66;03m# 3) Group by hour, then apply your per-group transformation\u001b[39;00m\n\u001b[0;32m     38\u001b[0m \u001b[38;5;66;03m#    We'll produce rows: hour => [response_array]\u001b[39;00m\n\u001b[0;32m     39\u001b[0m hourly_response \u001b[38;5;241m=\u001b[39m (\n\u001b[1;32m---> 40\u001b[0m     \u001b[43mdf_date\u001b[49m\n\u001b[0;32m     41\u001b[0m \u001b[43m    \u001b[49m\u001b[38;5;241;43m.\u001b[39;49m\u001b[43mgroupby\u001b[49m(\u001b[38;5;124m\"\u001b[39m\u001b[38;5;124mhour\u001b[39m\u001b[38;5;124m\"\u001b[39m)\n\u001b[0;32m     42\u001b[0m     \u001b[38;5;241m.\u001b[39mapply(\u001b[38;5;28;01mlambda\u001b[39;00m group_df: pl\u001b[38;5;241m.\u001b[39mDataFrame({\n\u001b[0;32m     43\u001b[0m         \u001b[38;5;124m\"\u001b[39m\u001b[38;5;124mhour\u001b[39m\u001b[38;5;124m\"\u001b[39m: [group_df[\u001b[38;5;124m\"\u001b[39m\u001b[38;5;124mhour\u001b[39m\u001b[38;5;124m\"\u001b[39m][\u001b[38;5;241m0\u001b[39m]],\n\u001b[0;32m     44\u001b[0m         \u001b[38;5;124m\"\u001b[39m\u001b[38;5;124mresponse\u001b[39m\u001b[38;5;124m\"\u001b[39m: [compute_response_function(group_df, tau_max)]\n\u001b[0;32m     45\u001b[0m     }))\n\u001b[0;32m     46\u001b[0m )\n\u001b[0;32m     48\u001b[0m \u001b[38;5;28;01mreturn\u001b[39;00m hourly_response\n",
      "\u001b[1;31mAttributeError\u001b[0m: 'DataFrame' object has no attribute 'groupby'"
     ]
    }
   ],
   "source": [
    "tau_max = 1400\n",
    "hourly_response_20100505 = compute_hourly_response(df_20100505, '2010-05-05', tau_max)\n",
    "hourly_response_20100506 = compute_hourly_response(df_20100506, '2010-05-06', tau_max)"
   ]
  },
  {
   "cell_type": "markdown",
   "metadata": {},
   "source": [
    "# For all the parquet files"
   ]
  },
  {
   "cell_type": "code",
   "execution_count": 2,
   "metadata": {},
   "outputs": [],
   "source": [
    "import pandas as pd\n",
    "import numpy as np\n",
    "import polars as pl\n",
    "import tarfile\n",
    "import pandas as pd\n",
    "import matplotlib.pyplot as plt\n",
    "from pathlib import Path"
   ]
  },
  {
   "cell_type": "code",
   "execution_count": 5,
   "metadata": {},
   "outputs": [],
   "source": [
    "import polars as pl\n",
    "import numpy as np\n",
    "from pathlib import Path\n",
    "\n",
    "def already_processed(ticker: str, out_file: Path) -> bool:\n",
    "    \"\"\"\n",
    "    Check if a given ticker already exists in the output_parquet.\n",
    "    Returns True if the ticker is found, False otherwise.\n",
    "    \"\"\"\n",
    "    if not out_file.exists():\n",
    "        # If output file doesn't exist yet, obviously not processed\n",
    "        return False\n",
    "    \n",
    "    # Read only the ticker column to save memory\n",
    "    df_ticker = pl.read_parquet(str(out_file), columns=[\"ticker\"]).unique()\n",
    "    return ticker in df_ticker[\"ticker\"].to_list()\n",
    "\n",
    "\n",
    "def compute_response_function(df: pl.DataFrame, tau_max: int) -> np.ndarray:\n",
    "    \"\"\"\n",
    "    Computes the response function R(tau) for all lags up to tau_max.\n",
    "    Expects df to have columns: 'bid-price', 'ask-price', 'trade-price'.\n",
    "\n",
    "    Args:\n",
    "        df (pl.DataFrame): DataFrame with 'bid-price', 'ask-price', 'trade-price'.\n",
    "        tau_max (int): Maximum lag for which to compute the response function.\n",
    "\n",
    "    Returns:\n",
    "        np.ndarray: Array of response values for each tau from 1 to tau_max.\n",
    "    \"\"\"\n",
    "    # Compute mid-price\n",
    "    df = df.with_columns(\n",
    "        ((pl.col(\"bid-price\") + pl.col(\"ask-price\")) / 2).alias(\"mid-price\")\n",
    "    )\n",
    "\n",
    "    # Compute the sign s = sign(trade-price - mid-price), fill trade-price nulls with 0\n",
    "    df = df.with_columns(\n",
    "        (pl.col(\"trade-price\").fill_null(0) - pl.col(\"mid-price\")).sign().alias(\"s\")\n",
    "    )\n",
    "\n",
    "    # Convert to NumPy arrays\n",
    "    m = df[\"mid-price\"].to_numpy()\n",
    "    s = df[\"s\"].to_numpy()\n",
    "\n",
    "    # Ensure tau_max does not exceed data length\n",
    "    tau_max = min(tau_max, len(m) - 1)\n",
    "    response = []\n",
    "\n",
    "    for tau in range(1, tau_max + 1):\n",
    "        # Only compute if we have enough data after shifting\n",
    "        if len(m[tau:]) > 0:\n",
    "            shifted_diff = m[tau:] - m[:-tau]  # m_{n+tau} - m_n\n",
    "            resp = np.mean(s[:-tau] * shifted_diff)\n",
    "            response.append(resp)\n",
    "        else:\n",
    "            response.append(np.nan)\n",
    "\n",
    "    return np.array(response)\n",
    "\n",
    "\n",
    "def compute_response_by_date_for_folder(\n",
    "    folder_path: str,\n",
    "    tau_max: int,\n",
    "    output_parquet: str\n",
    "):\n",
    "    \"\"\"\n",
    "    For each *.parquet in folder_path:\n",
    "      - If the ticker is already in output_parquet, skip it.\n",
    "      - Otherwise, group by date, compute the response function, and append results to output_parquet.\n",
    "\n",
    "    The output file will have columns: [ticker, date, tau, response].\n",
    "    \"\"\"\n",
    "    folder = Path(folder_path)\n",
    "    out_file = Path(output_parquet)\n",
    "\n",
    "    # Iterate over all parquet files in the folder\n",
    "    for file_path in folder.glob(\"*.parquet\"):\n",
    "        ticker = file_path.stem  # e.g., \"AAPL.OQ_combined\"\n",
    "\n",
    "        # Check if we already have this ticker in the final parquet\n",
    "        if already_processed(ticker, out_file):\n",
    "            print(f\"Skipping {ticker}, already processed.\")\n",
    "            continue\n",
    "\n",
    "        print(f\"Processing {ticker}...\")\n",
    "\n",
    "        # Read in the data\n",
    "        df = pl.read_parquet(str(file_path))\n",
    "\n",
    "        # Gather results in a Python list of dicts\n",
    "        results = []\n",
    "\n",
    "        # Get all unique dates\n",
    "        unique_dates = df[\"date\"].unique().to_list()\n",
    "\n",
    "        for date_val in unique_dates:\n",
    "            # Filter to just that date\n",
    "            group_df = df.filter(pl.col(\"date\") == date_val)\n",
    "            if group_df.is_empty():\n",
    "                continue\n",
    "\n",
    "            # Compute the response function\n",
    "            response_arr = compute_response_function(group_df, tau_max)\n",
    "\n",
    "            # Collect each tau's response\n",
    "            for tau_idx, resp_val in enumerate(response_arr, start=1):\n",
    "                results.append({\n",
    "                    \"ticker\": ticker,\n",
    "                    \"date\": date_val,\n",
    "                    \"tau\": tau_idx,\n",
    "                    \"response\": resp_val,\n",
    "                })\n",
    "\n",
    "        # Skip writing if no results (shouldn't happen if the file had data)\n",
    "        if not results:\n",
    "            print(f\"No valid response data for {ticker}.\")\n",
    "            continue\n",
    "\n",
    "        # Convert to Polars DataFrame\n",
    "        final_df = pl.DataFrame(results)\n",
    "\n",
    "        # If out_file doesn't exist, just write it\n",
    "        if not out_file.exists():\n",
    "            final_df.write_parquet(str(out_file))\n",
    "        else:\n",
    "            # If it does exist, read it and append\n",
    "            existing_df = pl.read_parquet(str(out_file))\n",
    "            combined = pl.concat([existing_df, final_df], how=\"vertical\")\n",
    "            combined.write_parquet(str(out_file))\n",
    "\n",
    "        print(f\"Finished {ticker}, appended to {out_file}.\")\n"
   ]
  },
  {
   "cell_type": "code",
   "execution_count": 8,
   "metadata": {},
   "outputs": [
    {
     "name": "stdout",
     "output_type": "stream",
     "text": [
      "Processing AAPL.OQ_combined...\n",
      "Processing AMGN.OQ_combined...\n",
      "Processing AXP.N_combined...\n",
      "Processing BA.N_combined...\n",
      "Processing CAT.N_combined...\n",
      "Processing CSCO.OQ_combined...\n",
      "Processing CVX.N_combined...\n",
      "Processing DOW.N_combined...\n",
      "Processing GS.N_combined...\n",
      "Processing HD.N_combined...\n",
      "Processing IBM.N_combined...\n",
      "Processing INTC.OQ_combined...\n",
      "Processing JNJ.N_combined...\n",
      "Processing JPM.N_combined...\n",
      "Processing KO.N_combined...\n",
      "Processing MCD.N_combined...\n",
      "Processing MMM.N_combined...\n",
      "Processing MRK.N_combined...\n",
      "Processing MSFT.OQ_combined...\n",
      "Processing NKE.N_combined...\n",
      "Processing PFE.N_combined...\n",
      "Processing PG.N_combined...\n",
      "Processing TRV.N_combined...\n",
      "Processing UNH.N_combined...\n",
      "Processing UTX.N_combined...\n",
      "Processing V.N_combined...\n",
      "Processing VZ.N_combined...\n",
      "Processing WMT.N_combined...\n",
      "Processing XOM.N_combined...\n",
      "Done! Results written to response_functions_all_stocks.parquet\n"
     ]
    }
   ],
   "source": [
    "compute_response_by_date_for_folder(\n",
    "        folder_path=\"data\",\n",
    "        tau_max=1000,\n",
    "        output_parquet=\"response_functions_all_stocks.parquet\"\n",
    "    )"
   ]
  },
  {
   "cell_type": "code",
   "execution_count": 22,
   "metadata": {},
   "outputs": [],
   "source": [
    "def determine_percentile_threshold(\n",
    "    response_parquet: str, \n",
    "    tau_max: int, \n",
    "    percentile: float = 99.0\n",
    ") -> float:\n",
    "    \"\"\"\n",
    "    Determines the threshold based on a specified percentile of the max_response values.\n",
    "    This implementation avoids using `groupby` by utilizing window functions.\n",
    "    \n",
    "    Parameters:\n",
    "    -----------\n",
    "    response_parquet : str\n",
    "        Path to the Parquet file with columns [ticker, date, tau, response].\n",
    "    tau_max : int\n",
    "        The maximum lag to consider.\n",
    "    percentile : float\n",
    "        The percentile to use for thresholding (e.g., 99.0 for the 99th percentile).\n",
    "\n",
    "    Returns:\n",
    "    --------\n",
    "    float\n",
    "        The computed threshold value.\n",
    "    \"\"\"\n",
    "    # 1. Read the response data\n",
    "    try:\n",
    "        df = pl.read_parquet(response_parquet)\n",
    "        print(f\"Successfully read {response_parquet}\")\n",
    "    except Exception as e:\n",
    "        raise IOError(f\"Failed to read {response_parquet}: {e}\")\n",
    "\n",
    "    # 4. Filter by tau_max\n",
    "    df_filtered = df.filter(pl.col(\"tau\") <= tau_max)\n",
    "\n",
    "    # 5. Compute max_response per (ticker, date) using window functions\n",
    "    df_with_max = df_filtered.with_columns(\n",
    "        pl.col(\"response\").max().over([\"ticker\", \"date\"]).alias(\"max_response\")\n",
    "    )\n",
    "\n",
    "    # 6. Extract unique (ticker, date, max_response) combinations\n",
    "    df_daily_max = df_with_max.select([\"ticker\", \"date\", \"max_response\"]).unique()\n",
    "    print(f\"Daily Max DataFrame shape: {df_daily_max.shape}\")\n",
    "\n",
    "    # 7. Calculate the desired percentile\n",
    "    try:\n",
    "        threshold = df_daily_max[\"max_response\"].quantile(percentile / 100.0)\n",
    "        print(f\"Determined threshold at the {percentile}th percentile: {threshold}\")\n",
    "    except Exception as e:\n",
    "        raise RuntimeError(f\"Failed to compute quantile: {e}\")\n",
    "\n",
    "    return threshold\n"
   ]
  },
  {
   "cell_type": "code",
   "execution_count": 26,
   "metadata": {},
   "outputs": [],
   "source": [
    "def detect_flash_crashes_from_response_file(\n",
    "    response_parquet: str, \n",
    "    tau_max: int, \n",
    "    threshold: float, \n",
    "    output_parquet: str\n",
    "):\n",
    "    \"\"\"\n",
    "    Reads a Parquet file with precomputed response functions, detects potential flash-crash\n",
    "    days by looking at the maximum response for each (ticker, date), and writes a filtered \n",
    "    Parquet of flagged days.\n",
    "\n",
    "    This implementation avoids using `groupby` by utilizing window functions.\n",
    "\n",
    "    Parameters\n",
    "    ----------\n",
    "    response_parquet : str\n",
    "        Path to the Parquet file that has columns [ticker, date, tau, response].\n",
    "    tau_max : int\n",
    "        The maximum lag to consider; rows with tau > tau_max will be ignored.\n",
    "    threshold : float\n",
    "        The cut-off above which we label a day as having a potential flash crash.\n",
    "    output_parquet : str\n",
    "        Path to the Parquet file in which to store flash-crash detections. This file \n",
    "        will have columns [ticker, date, max_response].\n",
    "    \"\"\"\n",
    "\n",
    "    try:\n",
    "        df = pl.read_parquet(response_parquet)\n",
    "        print(f\"Successfully read {response_parquet}\")\n",
    "    except Exception as e:\n",
    "        raise IOError(f\"Failed to read {response_parquet}: {e}\")\n",
    "\n",
    "    # 4. Filter by tau_max\n",
    "    df_filtered = df.filter(pl.col(\"tau\") <= tau_max)\n",
    "\n",
    "    # 5. Compute max_response per (ticker, date) using window functions\n",
    "    df_with_max = df_filtered.with_columns(\n",
    "        pl.col(\"response\").max().over([\"ticker\", \"date\"]).alias(\"max_response\")\n",
    "    )\n",
    "    # 6. Extract unique (ticker, date, max_response) combinations\n",
    "    df_daily_max = df_with_max.select([\"ticker\", \"date\", \"max_response\"]).unique()\n",
    "    # 7. Filter days where max_response exceeds the threshold\n",
    "    df_flash_crash = df_daily_max.filter(pl.col(\"max_response\") > threshold)\n",
    "\n",
    "    # 8. Write the flagged days to the output Parquet file\n",
    "    if df_flash_crash.is_empty():\n",
    "        print(\"No potential flash-crash days found. Writing empty file.\")\n",
    "    else:\n",
    "        print(f\"Writing flash-crash detections to {output_parquet} ...\")\n",
    "\n",
    "    df_flash_crash.write_parquet(output_parquet)\n",
    "    print(\"Flash-crash detection completed.\")\n"
   ]
  },
  {
   "cell_type": "code",
   "execution_count": 32,
   "metadata": {},
   "outputs": [
    {
     "data": {
      "text/plain": [
       "(5754000, 4)"
      ]
     },
     "execution_count": 32,
     "metadata": {},
     "output_type": "execute_result"
    }
   ],
   "source": [
    "test = pl.read_parquet(\"response_functions_all_stocks.parquet\")\n",
    "test.shape"
   ]
  },
  {
   "cell_type": "code",
   "execution_count": 27,
   "metadata": {},
   "outputs": [
    {
     "name": "stdout",
     "output_type": "stream",
     "text": [
      "Successfully read response_functions_all_stocks.parquet\n",
      "Daily Max DataFrame shape: (5754, 3)\n",
      "Determined threshold at the 99.0th percentile: 0.008211838832022249\n"
     ]
    }
   ],
   "source": [
    "tau_max = 100  \n",
    "percentile = 99.0  # Starting with the 99th percentile\n",
    "threshold = determine_percentile_threshold(\"response_functions_all_stocks.parquet\", tau_max)"
   ]
  },
  {
   "cell_type": "code",
   "execution_count": 28,
   "metadata": {},
   "outputs": [
    {
     "name": "stdout",
     "output_type": "stream",
     "text": [
      "Successfully read response_functions_all_stocks.parquet\n",
      "Writing flash-crash detections to flash_crashes_detected.parquet ...\n",
      "Flash-crash detection completed.\n"
     ]
    }
   ],
   "source": [
    "detect_flash_crashes_from_response_file(\n",
    "        response_parquet=\"response_functions_all_stocks.parquet\", \n",
    "        tau_max=100,            # or any integer limit on tau\n",
    "        threshold=threshold,         # or any threshold that suits your detection logic\n",
    "        output_parquet=\"flash_crashes_detected.parquet\"\n",
    "    )"
   ]
  },
  {
   "cell_type": "code",
   "execution_count": 31,
   "metadata": {},
   "outputs": [
    {
     "data": {
      "text/html": [
       "<div><style>\n",
       ".dataframe > thead > tr,\n",
       ".dataframe > tbody > tr {\n",
       "  text-align: right;\n",
       "  white-space: pre-wrap;\n",
       "}\n",
       "</style>\n",
       "<small>shape: (58, 3)</small><table border=\"1\" class=\"dataframe\"><thead><tr><th>ticker</th><th>date</th><th>max_response</th></tr><tr><td>str</td><td>str</td><td>f64</td></tr></thead><tbody><tr><td>&quot;AAPL.OQ_combined&quot;</td><td>&quot;2010-11-03&quot;</td><td>0.011162</td></tr><tr><td>&quot;IBM.N_combined&quot;</td><td>&quot;2010-01-19&quot;</td><td>NaN</td></tr><tr><td>&quot;AAPL.OQ_combined&quot;</td><td>&quot;2010-11-29&quot;</td><td>0.012902</td></tr><tr><td>&quot;AAPL.OQ_combined&quot;</td><td>&quot;2010-06-08&quot;</td><td>0.011305</td></tr><tr><td>&quot;GS.N_combined&quot;</td><td>&quot;2010-10-26&quot;</td><td>NaN</td></tr><tr><td>&hellip;</td><td>&hellip;</td><td>&hellip;</td></tr><tr><td>&quot;WMT.N_combined&quot;</td><td>&quot;2010-12-15&quot;</td><td>NaN</td></tr><tr><td>&quot;AAPL.OQ_combined&quot;</td><td>&quot;2010-12-07&quot;</td><td>0.010424</td></tr><tr><td>&quot;JPM.N_combined&quot;</td><td>&quot;2010-01-19&quot;</td><td>NaN</td></tr><tr><td>&quot;AAPL.OQ_combined&quot;</td><td>&quot;2010-09-30&quot;</td><td>0.009613</td></tr><tr><td>&quot;AAPL.OQ_combined&quot;</td><td>&quot;2010-11-15&quot;</td><td>0.011755</td></tr></tbody></table></div>"
      ],
      "text/plain": [
       "shape: (58, 3)\n",
       "┌──────────────────┬────────────┬──────────────┐\n",
       "│ ticker           ┆ date       ┆ max_response │\n",
       "│ ---              ┆ ---        ┆ ---          │\n",
       "│ str              ┆ str        ┆ f64          │\n",
       "╞══════════════════╪════════════╪══════════════╡\n",
       "│ AAPL.OQ_combined ┆ 2010-11-03 ┆ 0.011162     │\n",
       "│ IBM.N_combined   ┆ 2010-01-19 ┆ NaN          │\n",
       "│ AAPL.OQ_combined ┆ 2010-11-29 ┆ 0.012902     │\n",
       "│ AAPL.OQ_combined ┆ 2010-06-08 ┆ 0.011305     │\n",
       "│ GS.N_combined    ┆ 2010-10-26 ┆ NaN          │\n",
       "│ …                ┆ …          ┆ …            │\n",
       "│ WMT.N_combined   ┆ 2010-12-15 ┆ NaN          │\n",
       "│ AAPL.OQ_combined ┆ 2010-12-07 ┆ 0.010424     │\n",
       "│ JPM.N_combined   ┆ 2010-01-19 ┆ NaN          │\n",
       "│ AAPL.OQ_combined ┆ 2010-09-30 ┆ 0.009613     │\n",
       "│ AAPL.OQ_combined ┆ 2010-11-15 ┆ 0.011755     │\n",
       "└──────────────────┴────────────┴──────────────┘"
      ]
     },
     "execution_count": 31,
     "metadata": {},
     "output_type": "execute_result"
    }
   ],
   "source": [
    "test2 = pl.read_parquet(\"flash_crashes_detected.parquet\")\n",
    "test2"
   ]
  },
  {
   "cell_type": "code",
   "execution_count": null,
   "metadata": {},
   "outputs": [],
   "source": []
  },
  {
   "cell_type": "markdown",
   "metadata": {},
   "source": [
    "# Test Covariance matrix"
   ]
  },
  {
   "cell_type": "code",
   "execution_count": 20,
   "metadata": {},
   "outputs": [],
   "source": [
    "import pandas as pd\n",
    "import numpy as np\n",
    "import polars as pl\n",
    "import tarfile\n",
    "import pandas as pd\n",
    "import matplotlib.pyplot as plt"
   ]
  },
  {
   "cell_type": "code",
   "execution_count": 35,
   "metadata": {},
   "outputs": [],
   "source": [
    "AAPL = pl.read_parquet(\"data/AAPL.OQ_combined.parquet\")\n",
    "AMGN = pl.read_parquet(\"data/AMGN.OQ_combined.parquet\")"
   ]
  },
  {
   "cell_type": "code",
   "execution_count": 36,
   "metadata": {},
   "outputs": [],
   "source": [
    "def filter_by_date(df: pl.DataFrame, target_date: str) -> pl.DataFrame:\n",
    "    \"\"\"\n",
    "    Filters the Polars DataFrame by the given date string\n",
    "    and returns a new DataFrame.\n",
    "    \"\"\"\n",
    "    return df.filter(pl.col(\"date\") == target_date)\n",
    "\n",
    "AAPL_flash_crash_day = filter_by_date(AAPL, \"2010-05-06\")\n",
    "AMGN_flash_crash_day = filter_by_date(AMGN, \"2010-05-06\")"
   ]
  },
  {
   "cell_type": "code",
   "execution_count": 38,
   "metadata": {},
   "outputs": [],
   "source": [
    "AAPL_flash_crash_day = AAPL_flash_crash_day.with_columns(\n",
    "    pl.col('index').str.slice(11, 12).alias('truncated_index')  # Extract \"HH:MM:SS.ssssss\"\n",
    ")\n",
    "AMGN_flash_crash_day = AMGN_flash_crash_day.with_columns(\n",
    "    pl.col('index').str.slice(11, 12).alias('truncated_index')\n",
    ")"
   ]
  },
  {
   "cell_type": "code",
   "execution_count": 39,
   "metadata": {},
   "outputs": [
    {
     "data": {
      "text/html": [
       "<div><style>\n",
       ".dataframe > thead > tr,\n",
       ".dataframe > tbody > tr {\n",
       "  text-align: right;\n",
       "  white-space: pre-wrap;\n",
       "}\n",
       "</style>\n",
       "<small>shape: (5, 10)</small><table border=\"1\" class=\"dataframe\"><thead><tr><th>index</th><th>xltime</th><th>bid-price</th><th>bid-volume</th><th>ask-price</th><th>ask-volume</th><th>trade-price</th><th>trade-volume</th><th>date</th><th>truncated_index</th></tr><tr><td>str</td><td>f64</td><td>f64</td><td>i64</td><td>f64</td><td>i64</td><td>f64</td><td>i64</td><td>str</td><td>str</td></tr></thead><tbody><tr><td>&quot;2010-05-06T09:30:00.048000&quot;</td><td>40304.562501</td><td>253.53</td><td>6</td><td>254.17</td><td>8</td><td>null</td><td>null</td><td>&quot;2010-05-06&quot;</td><td>&quot;09:30:00.048&quot;</td></tr><tr><td>&quot;2010-05-06T09:30:00.102000&quot;</td><td>40304.562501</td><td>253.53</td><td>6</td><td>254.15</td><td>5</td><td>null</td><td>null</td><td>&quot;2010-05-06&quot;</td><td>&quot;09:30:00.102&quot;</td></tr><tr><td>&quot;2010-05-06T09:30:00.134000&quot;</td><td>40304.562502</td><td>253.53</td><td>6</td><td>253.89</td><td>1</td><td>null</td><td>null</td><td>&quot;2010-05-06&quot;</td><td>&quot;09:30:00.134&quot;</td></tr><tr><td>&quot;2010-05-06T09:30:00.140000&quot;</td><td>40304.562502</td><td>253.53</td><td>7</td><td>253.89</td><td>1</td><td>null</td><td>null</td><td>&quot;2010-05-06&quot;</td><td>&quot;09:30:00.140&quot;</td></tr><tr><td>&quot;2010-05-06T09:30:00.226000&quot;</td><td>40304.562503</td><td>253.53</td><td>7</td><td>254.15</td><td>5</td><td>null</td><td>null</td><td>&quot;2010-05-06&quot;</td><td>&quot;09:30:00.226&quot;</td></tr></tbody></table></div>"
      ],
      "text/plain": [
       "shape: (5, 10)\n",
       "┌───────────┬───────────┬───────────┬───────────┬───┬───────────┬───────────┬───────────┬──────────┐\n",
       "│ index     ┆ xltime    ┆ bid-price ┆ bid-volum ┆ … ┆ trade-pri ┆ trade-vol ┆ date      ┆ truncate │\n",
       "│ ---       ┆ ---       ┆ ---       ┆ e         ┆   ┆ ce        ┆ ume       ┆ ---       ┆ d_index  │\n",
       "│ str       ┆ f64       ┆ f64       ┆ ---       ┆   ┆ ---       ┆ ---       ┆ str       ┆ ---      │\n",
       "│           ┆           ┆           ┆ i64       ┆   ┆ f64       ┆ i64       ┆           ┆ str      │\n",
       "╞═══════════╪═══════════╪═══════════╪═══════════╪═══╪═══════════╪═══════════╪═══════════╪══════════╡\n",
       "│ 2010-05-0 ┆ 40304.562 ┆ 253.53    ┆ 6         ┆ … ┆ null      ┆ null      ┆ 2010-05-0 ┆ 09:30:00 │\n",
       "│ 6T09:30:0 ┆ 501       ┆           ┆           ┆   ┆           ┆           ┆ 6         ┆ .048     │\n",
       "│ 0.048000  ┆           ┆           ┆           ┆   ┆           ┆           ┆           ┆          │\n",
       "│ 2010-05-0 ┆ 40304.562 ┆ 253.53    ┆ 6         ┆ … ┆ null      ┆ null      ┆ 2010-05-0 ┆ 09:30:00 │\n",
       "│ 6T09:30:0 ┆ 501       ┆           ┆           ┆   ┆           ┆           ┆ 6         ┆ .102     │\n",
       "│ 0.102000  ┆           ┆           ┆           ┆   ┆           ┆           ┆           ┆          │\n",
       "│ 2010-05-0 ┆ 40304.562 ┆ 253.53    ┆ 6         ┆ … ┆ null      ┆ null      ┆ 2010-05-0 ┆ 09:30:00 │\n",
       "│ 6T09:30:0 ┆ 502       ┆           ┆           ┆   ┆           ┆           ┆ 6         ┆ .134     │\n",
       "│ 0.134000  ┆           ┆           ┆           ┆   ┆           ┆           ┆           ┆          │\n",
       "│ 2010-05-0 ┆ 40304.562 ┆ 253.53    ┆ 7         ┆ … ┆ null      ┆ null      ┆ 2010-05-0 ┆ 09:30:00 │\n",
       "│ 6T09:30:0 ┆ 502       ┆           ┆           ┆   ┆           ┆           ┆ 6         ┆ .140     │\n",
       "│ 0.140000  ┆           ┆           ┆           ┆   ┆           ┆           ┆           ┆          │\n",
       "│ 2010-05-0 ┆ 40304.562 ┆ 253.53    ┆ 7         ┆ … ┆ null      ┆ null      ┆ 2010-05-0 ┆ 09:30:00 │\n",
       "│ 6T09:30:0 ┆ 503       ┆           ┆           ┆   ┆           ┆           ┆ 6         ┆ .226     │\n",
       "│ 0.226000  ┆           ┆           ┆           ┆   ┆           ┆           ┆           ┆          │\n",
       "└───────────┴───────────┴───────────┴───────────┴───┴───────────┴───────────┴───────────┴──────────┘"
      ]
     },
     "execution_count": 39,
     "metadata": {},
     "output_type": "execute_result"
    }
   ],
   "source": [
    "AAPL_flash_crash_day.head()"
   ]
  },
  {
   "cell_type": "code",
   "execution_count": 24,
   "metadata": {},
   "outputs": [],
   "source": [
    "# Unique indices in each dataframe\n",
    "#AAPL_indices = set(AAPL_flash_crash_day['truncated_index'])\n",
    "#AMGN_indices = set(AMGN_flash_crash_day['truncated_index'])\n",
    "\n",
    "# Number of shared and unique indices\n",
    "#shared_indices = len(AAPL_indices.intersection(AMGN_indices))\n",
    "#unique_AAPL_indices = len(AAPL_indices - AMGN_indices)\n",
    "#unique_AMGN_indices = len(AMGN_indices - AAPL_indices)\n",
    "\n",
    "#print(f\"Number of shared indices: {shared_indices}\")\n",
    "#print(f\"Number of unique indices in AAPL: {unique_AAPL_indices}\")\n",
    "#print(f\"Number of unique indices in AMGN: {unique_AMGN_indices}\")\n"
   ]
  },
  {
   "cell_type": "code",
   "execution_count": 25,
   "metadata": {},
   "outputs": [],
   "source": [
    "AAPL_flash_crash_day = AAPL_flash_crash_day.with_columns(((AAPL_flash_crash_day['bid-price'] + AAPL_flash_crash_day['ask-price']) / 2).alias('mid_price'))\n",
    "AMGN_flash_crash_day = AMGN_flash_crash_day.with_columns(((AMGN_flash_crash_day['bid-price'] + AMGN_flash_crash_day['ask-price']) / 2).alias('mid_price'))\n",
    "\n",
    "AAPL_flash_crash_day = AAPL_flash_crash_day.with_columns(AAPL_flash_crash_day['mid_price'].pct_change().alias('mid_price_return'))\n",
    "AMGN_flash_crash_day = AMGN_flash_crash_day.with_columns(AMGN_flash_crash_day['mid_price'].pct_change().alias('mid_price_return'))\n",
    "\n",
    "# Remove rows where returns are zero or NaN\n",
    "AAPL_flash_crash_day = AAPL_flash_crash_day.filter(AAPL_flash_crash_day['mid_price_return'] != 0).drop_nulls()\n",
    "AMGN_flash_crash_day = AMGN_flash_crash_day.filter(AMGN_flash_crash_day['mid_price_return'] != 0).drop_nulls()\n",
    "\n",
    "# 3. Join the dataframes with full join and sort\n",
    "result_pl_df = AAPL_flash_crash_day.join(AMGN_flash_crash_day, on='truncated_index', how='full').sort('truncated_index')"
   ]
  },
  {
   "cell_type": "code",
   "execution_count": 26,
   "metadata": {},
   "outputs": [],
   "source": [
    "# Count rows with null values from each dataframe\n",
    "#null_in_asset1 = result_pl_df.select(pl.col('mid_price').is_null().sum()).to_numpy()[0][0]\n",
    "#null_in_asset2 = result_pl_df.select(pl.col('mid_price_right').is_null().sum()).to_numpy()[0][0]\n",
    "\n",
    "#print(f\"Rows with missing data from asset1: {null_in_asset1}\")\n",
    "#print(f\"Rows with missing data from asset2: {null_in_asset2}\")\n"
   ]
  },
  {
   "cell_type": "code",
   "execution_count": 27,
   "metadata": {},
   "outputs": [],
   "source": [
    "# Forward-fill directly on the existing columns\n",
    "result_pl_df_filled = result_pl_df.with_columns([\n",
    "    pl.col('mid_price').fill_null(strategy='forward'),\n",
    "    pl.col('mid_price_right').fill_null(strategy='forward')\n",
    "])\n"
   ]
  },
  {
   "cell_type": "code",
   "execution_count": 28,
   "metadata": {},
   "outputs": [],
   "source": [
    "#null_in_asset1 = result_pl_df_filled.select(pl.col('mid_price').is_null().sum()).to_numpy()[0][0]\n",
    "#null_in_asset2 = result_pl_df_filled.select(pl.col('mid_price_right').is_null().sum()).to_numpy()[0][0]\n",
    "\n",
    "#print(f\"Rows with missing data from asset1 after forward-fill: {null_in_asset1}\")\n",
    "#print(f\"Rows with missing data from asset2 after forward-fill: {null_in_asset2}\")\n"
   ]
  },
  {
   "cell_type": "markdown",
   "metadata": {},
   "source": [
    "**Cut in 3 dataframes**"
   ]
  },
  {
   "cell_type": "code",
   "execution_count": 29,
   "metadata": {},
   "outputs": [],
   "source": [
    "import polars as pl\n",
    "from datetime import datetime, timedelta\n",
    "from typing import Tuple\n",
    "\n",
    "def split_dataframe_by_quarter(df: pl.DataFrame, start_time_str: str) -> Tuple[pl.DataFrame, pl.DataFrame, pl.DataFrame]:\n",
    "    clean_df = df.filter(\n",
    "        (pl.col('mid_price_return').is_not_null()) & \n",
    "        (pl.col('mid_price_return_right').is_not_null())\n",
    "    )\n",
    "    \n",
    "    arbitrary_date = \"2000-01-01\"\n",
    "    start_datetime_str = f\"{arbitrary_date} {start_time_str}:00\"\n",
    "    start_datetime = datetime.strptime(start_datetime_str, \"%Y-%m-%d %H:%M:%S\")\n",
    "    \n",
    "    quarter_duration = timedelta(minutes=15)\n",
    "    end_datetime = start_datetime + quarter_duration\n",
    "    \n",
    "    start_quarter = start_datetime.strftime(\"%H:%M:%S\")\n",
    "    end_quarter = end_datetime.strftime(\"%H:%M:%S\")\n",
    "    \n",
    "    df_before_quarter = clean_df.filter(pl.col(\"truncated_index\") < start_quarter)\n",
    "    df_during_quarter = clean_df.filter(\n",
    "        (pl.col(\"truncated_index\") >= start_quarter) & \n",
    "        (pl.col(\"truncated_index\") <= end_quarter)\n",
    "    )\n",
    "    df_after_quarter = clean_df.filter(pl.col(\"truncated_index\") > end_quarter)\n",
    "    \n",
    "    return df_before_quarter, df_during_quarter, df_after_quarter"
   ]
  },
  {
   "cell_type": "code",
   "execution_count": 32,
   "metadata": {},
   "outputs": [
    {
     "name": "stdout",
     "output_type": "stream",
     "text": [
      "Rows before the quarter: 59437\n",
      "Rows during the quarter: 8131\n",
      "Rows after the quarter: 17758\n"
     ]
    }
   ],
   "source": [
    "df_before, df_during, df_after = split_dataframe_by_quarter(result_pl_df_filled, start_time)"
   ]
  },
  {
   "cell_type": "code",
   "execution_count": 17,
   "metadata": {},
   "outputs": [],
   "source": [
    "from intervaltree import Interval, IntervalTree\n",
    "\n",
    "def hayashi_yoshida_covariance(dataframe, default_columns=(\"mid_price_return\", \"mid_price_return_right\")):\n",
    "    \"\"\"\n",
    "    Calculate the Hayashi-Yoshida covariance estimator for two numeric columns in a dataframe.\n",
    "\n",
    "    Parameters:\n",
    "        dataframe (pl.DataFrame): The input dataframe.\n",
    "        default_columns (tuple): A tuple specifying default column names for the calculation.\n",
    "\n",
    "    Returns:\n",
    "        dict: A dictionary containing the Hayashi-Yoshida covariance, variances, and correlation.\n",
    "    \"\"\"\n",
    "    if all(col in dataframe.columns for col in default_columns):\n",
    "        col_x, col_y = default_columns\n",
    "    else:\n",
    "        raise ValueError(\n",
    "            f\"The dataframe must contain the specified columns: {default_columns}\"\n",
    "        )\n",
    "\n",
    "    # Convert Polars DataFrame to Pandas for interval handling\n",
    "    df = dataframe.to_pandas()\n",
    "\n",
    "    # Extract necessary columns and drop NaNs\n",
    "    df_x = df[[\"truncated_index\", col_x]].dropna().sort_values(by=\"truncated_index\").drop_duplicates(subset=\"truncated_index\")\n",
    "    df_y = df[[\"truncated_index_right\", col_y]].dropna().sort_values(by=\"truncated_index_right\").drop_duplicates(subset=\"truncated_index_right\")\n",
    "\n",
    "    # Parse truncated_index into proper datetime with millisecond precision\n",
    "    df_x[\"truncated_index\"] = pd.to_datetime(df_x[\"truncated_index\"], format=\"%H:%M:%S.%f\")\n",
    "    df_y[\"truncated_index_right\"] = pd.to_datetime(df_y[\"truncated_index_right\"], format=\"%H:%M:%S.%f\")\n",
    "\n",
    "    # Create intervals for both series\n",
    "    intervals_x = pd.IntervalIndex.from_arrays(\n",
    "        df_x[\"truncated_index\"][:-1], df_x[\"truncated_index\"][1:], closed=\"right\"\n",
    "    )\n",
    "    intervals_y = pd.IntervalIndex.from_arrays(\n",
    "        df_y[\"truncated_index_right\"][:-1], df_y[\"truncated_index_right\"][1:], closed=\"right\"\n",
    "    )\n",
    "\n",
    "    # Build an interval tree for Y\n",
    "    tree_y = IntervalTree(\n",
    "        Interval(begin.value, end.value, idx)\n",
    "        for idx, (begin, end) in enumerate(zip(df_y[\"truncated_index_right\"][:-1], df_y[\"truncated_index_right\"][1:]))\n",
    "    )\n",
    "\n",
    "    # Calculate covariance\n",
    "    covariance = 0\n",
    "    for i, interval_x in enumerate(intervals_x):\n",
    "        overlaps = tree_y.overlap(interval_x.left.value, interval_x.right.value)  # Use overlap instead of search\n",
    "        for overlap in overlaps:\n",
    "            j = overlap.data  # Index in df_y\n",
    "            covariance += df_x[col_x].iloc[i] * df_y[col_y].iloc[j]\n",
    "\n",
    "    # Calculate variances\n",
    "    variance_x = np.sum(df_x[col_x] ** 2)\n",
    "    variance_y = np.sum(df_y[col_y] ** 2)\n",
    "\n",
    "    # Calculate correlation\n",
    "    correlation = covariance / np.sqrt(variance_x * variance_y)\n",
    "\n",
    "    return {\n",
    "        \"hayashi_yoshida_covariance\": covariance,\n",
    "        \"variance_x\": variance_x,\n",
    "        \"variance_y\": variance_y,\n",
    "        \"correlation\": correlation,\n",
    "    }\n"
   ]
  },
  {
   "cell_type": "code",
   "execution_count": 18,
   "metadata": {},
   "outputs": [
    {
     "name": "stdout",
     "output_type": "stream",
     "text": [
      "Columns used: ('mid_price_return', 'mid_price_return_right')\n",
      "Hayashi-Yoshida Covariance: -1.4890817019416107e-05\n",
      "Variance of X: 0.0008115400465471208\n",
      "Variance of Y: 5.604403826875911e-06\n",
      "Correlation: -0.22079988290381533\n",
      "\n",
      "Columns used: ('mid_price_return', 'mid_price_return_right')\n",
      "Hayashi-Yoshida Covariance: -0.00012031753513600134\n",
      "Variance of X: 0.06770429394599964\n",
      "Variance of Y: 2.6253316839041454e-05\n",
      "Correlation: -0.09024615957915567\n",
      "\n",
      "Columns used: ('mid_price_return', 'mid_price_return_right')\n",
      "Hayashi-Yoshida Covariance: -1.5798385847689032e-05\n",
      "Variance of X: 0.0010735912110503942\n",
      "Variance of Y: 1.1241841328063137e-05\n",
      "Correlation: -0.14380517573658844\n"
     ]
    }
   ],
   "source": [
    "# Call the function on your dataframe\n",
    "result = hayashi_yoshida_covariance(df_before_quarter)\n",
    "result_2 = hayashi_yoshida_covariance(df_during_quarter)\n",
    "result_3 = hayashi_yoshida_covariance(df_after_quarter)\n",
    "# Print results\n",
    "print(f\"Hayashi-Yoshida Covariance: {result['hayashi_yoshida_covariance']}\")\n",
    "print(f\"Variance of X: {result['variance_x']}\")\n",
    "print(f\"Variance of Y: {result['variance_y']}\")\n",
    "print(f\"Correlation: {result['correlation']}\")\n",
    "print()\n",
    "# Print results\n",
    "print(f\"Hayashi-Yoshida Covariance: {result_2['hayashi_yoshida_covariance']}\")\n",
    "print(f\"Variance of X: {result_2['variance_x']}\")\n",
    "print(f\"Variance of Y: {result_2['variance_y']}\")\n",
    "print(f\"Correlation: {result_2['correlation']}\")\n",
    "print()\n",
    "# Print results\n",
    "print(f\"Columns used: {result_3['columns']}\")\n",
    "print(f\"Hayashi-Yoshida Covariance: {result_3['hayashi_yoshida_covariance']}\")\n",
    "print(f\"Variance of X: {result_3['variance_x']}\")\n",
    "print(f\"Variance of Y: {result_3['variance_y']}\")\n",
    "print(f\"Correlation: {result_3['correlation']}\")\n"
   ]
  },
  {
   "cell_type": "markdown",
   "metadata": {},
   "source": [
    "## ALL the files covariance matrix"
   ]
  },
  {
   "cell_type": "code",
   "execution_count": 44,
   "metadata": {},
   "outputs": [],
   "source": [
    "def process_pair(asset1_file, asset2_file, date, start_time):\n",
    "    \"\"\"\n",
    "    Process two parquet files to compute the Hayashi-Yoshida covariance, variances, and correlations.\n",
    "\n",
    "    Parameters:\n",
    "        asset1_file (str): Path to the first asset's parquet file.\n",
    "        asset2_file (str): Path to the second asset's parquet file.\n",
    "        date (str): The date to filter on (e.g., \"2010-05-06\").\n",
    "        start_time (str): The start time of the quarter (e.g., \"09:30\").\n",
    "\n",
    "    Returns:\n",
    "        dict: A dictionary containing the results for each period (before, during, after).\n",
    "    \"\"\"\n",
    "\n",
    "    # Load the parquet files\n",
    "    asset1 = pl.read_parquet(asset1_file)\n",
    "    asset2 = pl.read_parquet(asset2_file)\n",
    "\n",
    "    # Filter by date\n",
    "    asset1 = filter_by_date(asset1, date)\n",
    "    asset2 = filter_by_date(asset2, date)\n",
    "\n",
    "    # Add truncated index\n",
    "    asset1 = asset1.with_columns(pl.col('index').str.slice(11, 12).alias('truncated_index'))\n",
    "    asset2 = asset2.with_columns(pl.col('index').str.slice(11, 12).alias('truncated_index'))\n",
    "\n",
    "    # Compute mid-price and mid-price returns\n",
    "    asset1 = asset1.with_columns(((asset1['bid-price'] + asset1['ask-price']) / 2).alias('mid_price'))\n",
    "    asset1 = asset1.with_columns(asset1['mid_price'].pct_change().alias('mid_price_return'))\n",
    "    asset1 = asset1.filter(asset1['mid_price_return'] != 0).drop_nulls()\n",
    "\n",
    "    asset2 = asset2.with_columns(((asset2['bid-price'] + asset2['ask-price']) / 2).alias('mid_price'))\n",
    "    asset2 = asset2.with_columns(asset2['mid_price'].pct_change().alias('mid_price_return'))\n",
    "    asset2 = asset2.filter(asset2['mid_price_return'] != 0).drop_nulls()\n",
    "\n",
    "        \n",
    "\n",
    "    # Join the dataframes\n",
    "    result_df = asset1.join(asset2, on='truncated_index', how='full').sort('truncated_index')\n",
    "\n",
    "    # Forward fill\n",
    "    result_df = result_df.with_columns([\n",
    "        pl.col('mid_price').fill_null(strategy='forward'),\n",
    "        pl.col('mid_price_right').fill_null(strategy='forward')\n",
    "    ])\n",
    "\n",
    "    result_pl_df_filled = result_pl_df.with_columns([\n",
    "        pl.col('mid_price').fill_null(strategy='forward'),\n",
    "        pl.col('mid_price_right').fill_null(strategy='forward')\n",
    "    ])\n",
    "\n",
    "    # Split the dataframe into periods\n",
    "    df_before, df_during, df_after = split_dataframe_by_quarter(result_df, start_time)\n",
    "\n",
    "    # Compute covariance and variances for each period\n",
    "    results = {\n",
    "        \"before\": hayashi_yoshida_covariance(df_before),\n",
    "        \"during\": hayashi_yoshida_covariance(df_during),\n",
    "        \"after\": hayashi_yoshida_covariance(df_after),\n",
    "    }\n",
    "    \n",
    "    return results\n"
   ]
  },
  {
   "cell_type": "code",
   "execution_count": 45,
   "metadata": {},
   "outputs": [],
   "source": [
    "AAPL = pl.read_parquet(\"data/AAPL.OQ_combined.parquet\")\n",
    "AMGN = pl.read_parquet(\"data/AMGN.OQ_combined.parquet\")\n",
    "\n",
    "\n",
    "results = process_pair(\"data/AAPL.OQ_combined.parquet\",\"data/AMGN.OQ_combined.parquet\",\"2010-05-06\",\"14:45\")"
   ]
  },
  {
   "cell_type": "code",
   "execution_count": 47,
   "metadata": {},
   "outputs": [
    {
     "name": "stdout",
     "output_type": "stream",
     "text": [
      "Results for the 'before' group:\n",
      "columns: ('mid_price_return', 'mid_price_return_right')\n",
      "hayashi_yoshida_covariance: 4.6598161306899626e-07\n",
      "variance_x: 3.0557134919094433e-06\n",
      "variance_y: 5.604403826875911e-06\n",
      "correlation: 0.1126024277275251\n",
      "columns: ('mid_price_return', 'mid_price_return_right')\n",
      "hayashi_yoshida_covariance: -1.796399056251842e-06\n",
      "variance_x: 0.00019806774824034315\n",
      "variance_y: 2.6253316839041454e-05\n",
      "correlation: -0.024911727585088677\n",
      "columns: ('mid_price_return', 'mid_price_return_right')\n",
      "hayashi_yoshida_covariance: 3.3933135538271396e-08\n",
      "variance_x: 8.264664089038107e-06\n",
      "variance_y: 1.1241841328063137e-05\n",
      "correlation: 0.003520405273266799\n"
     ]
    }
   ],
   "source": [
    "# Access and print the results for the 'before' group\n",
    "print(\"Results for the 'before' group:\")\n",
    "for key, value in results[\"before\"].items():\n",
    "    print(f\"{key}: {value}\")\n",
    "for key, value in results[\"during\"].items():\n",
    "    print(f\"{key}: {value}\")\n",
    "for key, value in results[\"after\"].items():\n",
    "    print(f\"{key}: {value}\")"
   ]
  },
  {
   "cell_type": "code",
   "execution_count": null,
   "metadata": {},
   "outputs": [],
   "source": [
    "Columns used: ('mid_price_return', 'mid_price_return_right')\n",
    "Hayashi-Yoshida Covariance: -1.4890817019416107e-05\n",
    "Variance of X: 0.0008115400465471208\n",
    "Variance of Y: 5.604403826875911e-06\n",
    "Correlation: -0.22079988290381533\n",
    "\n",
    "Columns used: ('mid_price_return', 'mid_price_return_right')\n",
    "Hayashi-Yoshida Covariance: -0.00012031753513600134\n",
    "Variance of X: 0.06770429394599964\n",
    "Variance of Y: 2.6253316839041454e-05\n",
    "Correlation: -0.09024615957915567\n",
    "\n",
    "Columns used: ('mid_price_return', 'mid_price_return_right')\n",
    "Hayashi-Yoshida Covariance: -1.5798385847689032e-05\n",
    "Variance of X: 0.0010735912110503942\n",
    "Variance of Y: 1.1241841328063137e-05\n",
    "Correlation: -0.14380517573658844"
   ]
  }
 ],
 "metadata": {
  "kernelspec": {
   "display_name": "fin",
   "language": "python",
   "name": "python3"
  },
  "language_info": {
   "codemirror_mode": {
    "name": "ipython",
    "version": 3
   },
   "file_extension": ".py",
   "mimetype": "text/x-python",
   "name": "python",
   "nbconvert_exporter": "python",
   "pygments_lexer": "ipython3",
   "version": "3.9.21"
  }
 },
 "nbformat": 4,
 "nbformat_minor": 2
}
